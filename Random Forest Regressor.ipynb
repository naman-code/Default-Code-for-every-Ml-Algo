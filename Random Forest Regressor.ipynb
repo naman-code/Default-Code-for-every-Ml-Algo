{
 "cells": [
  {
   "cell_type": "markdown",
   "metadata": {},
   "source": [
    "# Random Forest Regressor"
   ]
  },
  {
   "cell_type": "code",
   "execution_count": null,
   "metadata": {},
   "outputs": [],
   "source": [
    "import pandas as pd\n",
    "import matplotlib.pyplot as plt\n",
    "from sklearn.model_selection import GridSearchCV, RandomizedSearchCV,train_test_split\n",
    "from sklearn.ensemble import RandomForestRegressor\n",
    "from sklearn.metrics import r2_score, mean_squared_error\n",
    "from sklearn.metrics import accuracy_score\n",
    "from sklearn.model_selection import cross_val_score as cvs"
   ]
  },
  {
   "cell_type": "markdown",
   "metadata": {},
   "source": [
    "This code presented just contains the main code for you algo and hyperparameter optimisaton and the preprocessing steps are different for everyproblem so dont even think i will mention all of them at all. thats it"
   ]
  },
  {
   "cell_type": "code",
   "execution_count": null,
   "metadata": {},
   "outputs": [],
   "source": [
    "rf = RandomForestRegressor( n_estimators=200,\n",
    "    criterion='mse',\n",
    "    max_depth=5,\n",
    "    min_samples_split=4,\n",
    "    min_samples_leaf=5)\n",
    "rf.fit(xtrain,ytrain)\n",
    "rfpred = rf.predict(xtest)\n",
    "print(\" score = {}\".format(rf.score(xtrain,ytrain)))\n",
    "print(\" score = {}\".format(rf.score(xtest,ytest)))\n",
    "print(\"r2 score = {}\".format(r2_score(rfpred,ytest)))\n",
    "print(\"mean squared error = {}\".format(mean_squared_error(rfpred,ytest)))"
   ]
  },
  {
   "cell_type": "code",
   "execution_count": null,
   "metadata": {},
   "outputs": [],
   "source": [
    "score = cvs(rfc,x,y,cv=10) # x and y are data points\n",
    "print(score)\n",
    "print(score.mean())"
   ]
  },
  {
   "cell_type": "markdown",
   "metadata": {},
   "source": [
    "### Randomized Search CV "
   ]
  },
  {
   "cell_type": "code",
   "execution_count": null,
   "metadata": {},
   "outputs": [],
   "source": [
    "import numpy as np\n",
    "rf1 = RandomForestRegressor()\n",
    "params = {\"n_estimators\": [100,200,300,400,500,600,700,800],\n",
    "          \"criterion\": [\"mse\", \"mae\"],\n",
    "          \"max_depth\": [int(x) for x in np.linspace(1,100,70)],\n",
    "         \"min_samples_split\": [0,1,3,5,7,9,11,13,15],\n",
    "          \"max_features\" : [\"auto\", \"sqrt\", \"log2\"],\n",
    "         }\n",
    "random = RandomizedSearchCV(estimator = rf1,param_distributions = params,n_iter = 100,cv = 4,verbose = 3,n_jobs = -1)\n",
    "random.fit(xtrain,ytrain)"
   ]
  },
  {
   "cell_type": "code",
   "execution_count": null,
   "metadata": {},
   "outputs": [],
   "source": [
    "random.best_params_"
   ]
  },
  {
   "cell_type": "code",
   "execution_count": null,
   "metadata": {},
   "outputs": [],
   "source": [
    "random.best_score_"
   ]
  },
  {
   "cell_type": "markdown",
   "metadata": {},
   "source": [
    "### Grid Search Cv"
   ]
  },
  {
   "cell_type": "code",
   "execution_count": null,
   "metadata": {},
   "outputs": [],
   "source": [
    "params1 = {\"n_estimators\": [100,200,300,400],\n",
    "          \"criterion\": [\"mse\", \"mae\"],\n",
    "          \"max_depth\": [1,5,7,9,11,13,15,20],\n",
    "          \"min_samples_split\": [0,1,3,5,7,9,11,13,15],\n",
    "          \"max_features\" : [\"auto\", \"sqrt\", \"log2\"],\n",
    "          \"min_samples_leaf\" : [1,3,6,7,8,9]\n",
    "         }\n",
    "grid = GridSearchCV(estimator = rf,param_grid = params1,verbose = 3,n_jobs = -1 )\n",
    "grid.fit(xtest,ytest)"
   ]
  },
  {
   "cell_type": "code",
   "execution_count": null,
   "metadata": {},
   "outputs": [],
   "source": [
    "grid.best_score_"
   ]
  },
  {
   "cell_type": "code",
   "execution_count": null,
   "metadata": {},
   "outputs": [],
   "source": [
    "grid_rf = grid.best_estimator_\n",
    "grid_rf.fit(xtrain,ytrain)\n",
    "grid_rf_pred = grid_rf.predict(xtest)\n",
    "print(r2_score(ytest,grid_rf_pred))\n",
    "print(grid_rf.score(xtest,ytest))\n",
    "\n",
    "print(grid_rf.score(xtrain,ytrain))"
   ]
  },
  {
   "cell_type": "markdown",
   "metadata": {},
   "source": [
    "# Graph Representation "
   ]
  },
  {
   "cell_type": "code",
   "execution_count": null,
   "metadata": {},
   "outputs": [],
   "source": [
    "# here the values near 0 is more then our model is goo else we need to do more steps\n",
    "import seaborn as sns\n",
    "sns.distplot(ytest-rfpred)"
   ]
  }
 ],
 "metadata": {
  "kernelspec": {
   "display_name": "Python 3",
   "language": "python",
   "name": "python3"
  },
  "language_info": {
   "codemirror_mode": {
    "name": "ipython",
    "version": 3
   },
   "file_extension": ".py",
   "mimetype": "text/x-python",
   "name": "python",
   "nbconvert_exporter": "python",
   "pygments_lexer": "ipython3",
   "version": "3.8.8"
  }
 },
 "nbformat": 4,
 "nbformat_minor": 4
}
