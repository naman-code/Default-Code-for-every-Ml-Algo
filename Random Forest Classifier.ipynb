{
 "cells": [
  {
   "cell_type": "markdown",
   "metadata": {},
   "source": [
    "# Random Forest Classifier"
   ]
  },
  {
   "cell_type": "code",
   "execution_count": null,
   "metadata": {},
   "outputs": [],
   "source": [
    "from sklearn.metrics import classification_report \n",
    "from sklearn.metrics import confusion_matrix\n",
    "from sklearn.ensemble import RandomForestClassifier\n",
    "from sklearn.model_selection import cross_val_score as cvs\n",
    "from sklearn.model_selection import RandomizedSearchCV, GridSearchCV"
   ]
  },
  {
   "cell_type": "markdown",
   "metadata": {},
   "source": [
    "This is just the sample code no data preprocessing , data visualisation, feature extraction and other things"
   ]
  },
  {
   "cell_type": "code",
   "execution_count": null,
   "metadata": {},
   "outputs": [],
   "source": [
    "rf = RandomForestClassifier( n_estimators=200,\n",
    "    criterion='gini',\n",
    "    max_depth=5,\n",
    "    min_samples_split=4,\n",
    "    min_samples_leaf=5)\n",
    "rf.fit(xtrain,ytrain)\n",
    "rfpred = rf.predict(xtest)\n",
    "print(\" score = {}\".format(rf.score(xtrain,ytrain)))\n",
    "print(\" score = {}\".format(rf.score(xtest,ytest)))\n",
    "print(\"confusion matrix = \\n{}\".format(confusion_matrix(rfpred,ytest)))\n",
    "print(\"Classification Report {}\".format(classification_report(ytest,ypred)))"
   ]
  },
  {
   "cell_type": "code",
   "execution_count": null,
   "metadata": {},
   "outputs": [],
   "source": [
    "score = cvs(rfc,x,y,cv=10) # x and y are data points\n",
    "print(score)\n",
    "print(score.mean())"
   ]
  },
  {
   "cell_type": "markdown",
   "metadata": {},
   "source": [
    "### Randomised Search CV"
   ]
  },
  {
   "cell_type": "code",
   "execution_count": null,
   "metadata": {},
   "outputs": [],
   "source": [
    "rf1 = RandomForestClassifier()\n",
    "params = {\"n_estimators\": [100,200,300,400,500,600,700,800,900,1000,1100,1200],\n",
    "          \"criterion\": [\"gini\", \"entropy\"],\n",
    "          \"max_depth\": [int(x) for x in np.linspace(1,200,20)],\n",
    "         \"min_samples_split\": [0,1,3,5,7,9,11,13,15],\n",
    "          \"max_features\" : [\"auto\", \"sqrt\", \"log2\"],\n",
    "         }\n",
    "random = RandomizedSearchCV(estimator = rf1,param_distributions = params,n_iter = 100,cv = 4,verbose = 3,n_jobs = -1)\n",
    "random.fit(xtrain,ytrain)"
   ]
  },
  {
   "cell_type": "code",
   "execution_count": null,
   "metadata": {},
   "outputs": [],
   "source": [
    "random.best_score_"
   ]
  },
  {
   "cell_type": "code",
   "execution_count": null,
   "metadata": {},
   "outputs": [],
   "source": [
    "# making the final model with best parameters using hte best_estimator_\n",
    "rfc = random.best_estimator_\n",
    "rfc.fit(xtrain,ytrain)\n",
    "rfcp = rfc.predict(xtest)\n",
    "print(\" score = {}\".format(rfc.score(xtrain,ytrain)))\n",
    "print(\" score = {}\".format(rfc.score(xtest,ytest)))\n",
    "print(\"confusion matrix = \\n{}\".format(confusion_matrix(rfpred,ytest)))\n",
    "print(\"classificatin report = \\n{}\".format(classification_report(rfpred,ytest)))"
   ]
  },
  {
   "cell_type": "code",
   "execution_count": null,
   "metadata": {},
   "outputs": [],
   "source": [
    "# graph\n",
    "import seaborn as sns\n",
    "sns.distplot(ytest-rfcp)"
   ]
  },
  {
   "cell_type": "code",
   "execution_count": null,
   "metadata": {},
   "outputs": [],
   "source": [
    "#you can adjust the value of threshold find the probabilities using predict_proba "
   ]
  },
  {
   "cell_type": "markdown",
   "metadata": {},
   "source": [
    "### Grind Search Cv "
   ]
  },
  {
   "cell_type": "code",
   "execution_count": null,
   "metadata": {},
   "outputs": [],
   "source": [
    "rf1 = RandomForestClassifier()\n",
    "params = {\"n_estimators\": [100,200,300,400,500,600,700,800,900,1000,1100,1200],\n",
    "          \"criterion\": [\"gini\", \"entropy\"],\n",
    "          \"max_depth\": [int(x) for x in np.linspace(1,200,20)],\n",
    "         \"min_samples_split\": [0,1,3,5,7,9,11,13,15],\n",
    "          \"max_features\" : [\"auto\", \"sqrt\", \"log2\"],\n",
    "         }\n",
    "random = GridSearchCV(estimator = rf1,param_distributions = params,n_iter = 100,cv = 4,verbose = 3,n_jobs = -1)\n",
    "random.fit(xtrain,ytrain)"
   ]
  },
  {
   "cell_type": "code",
   "execution_count": null,
   "metadata": {},
   "outputs": [],
   "source": [
    "random.best_score_"
   ]
  },
  {
   "cell_type": "code",
   "execution_count": null,
   "metadata": {},
   "outputs": [],
   "source": [
    "# making the final model with best parameters using hte best_estimator_\n",
    "rfc = random.best_estimator_\n",
    "rfc.fit(xtrain,ytrain)\n",
    "rfcp = rfc.predict(xtest)\n",
    "print(\" score = {}\".format(rfc.score(xtrain,ytrain)))\n",
    "print(\" score = {}\".format(rfc.score(xtest,ytest)))\n",
    "print(\"confusion matrix = \\n{}\".format(confusion_matrix(rfpred,ytest)))\n",
    "print(\"classificatin report = \\n{}\".format(classification_report(rfpred,ytest)))"
   ]
  },
  {
   "cell_type": "code",
   "execution_count": null,
   "metadata": {},
   "outputs": [],
   "source": [
    "# graph\n",
    "import seaborn as sns\n",
    "sns.distplot(ytest-rfcp)"
   ]
  }
 ],
 "metadata": {
  "kernelspec": {
   "display_name": "Python 3",
   "language": "python",
   "name": "python3"
  },
  "language_info": {
   "codemirror_mode": {
    "name": "ipython",
    "version": 3
   },
   "file_extension": ".py",
   "mimetype": "text/x-python",
   "name": "python",
   "nbconvert_exporter": "python",
   "pygments_lexer": "ipython3",
   "version": "3.8.5"
  }
 },
 "nbformat": 4,
 "nbformat_minor": 4
}
