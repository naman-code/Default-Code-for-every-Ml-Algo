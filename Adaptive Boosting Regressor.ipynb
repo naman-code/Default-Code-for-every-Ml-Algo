{
 "cells": [
  {
   "cell_type": "markdown",
   "metadata": {},
   "source": [
    "# Adaptive Boosting Regressor\n"
   ]
  },
  {
   "cell_type": "code",
   "execution_count": null,
   "metadata": {},
   "outputs": [],
   "source": [
    "from sklearn.ensemble import AdaBoostRegressor\n",
    "from sklearn.model_selection import GridSearchCV, RandomizedSearchCV\n",
    "from sklearn.metrics import r2_score, mean_squared_error"
   ]
  },
  {
   "cell_type": "markdown",
   "metadata": {},
   "source": [
    "### normal code"
   ]
  },
  {
   "cell_type": "code",
   "execution_count": null,
   "metadata": {},
   "outputs": [],
   "source": [
    "ada  = AdaBoostRegressor(n_estimators = 200 , learning_Rate = 0.1)\n",
    "ada.fit(xtrain,ytrain)\n",
    "ypred = ada.predict(xtest)\n",
    "print(\"Test data score - {}\".format(model.score(xtest,ytest)))\n",
    "print(\"Train data score - {}\".format(model.score(xtrain,ytrain)))\n",
    "print(\"r2 score = {}\".format(r2_score(ypred,ytest)))\n",
    "print(\"mean squared error = {}\".format(mean_squared_error(ypred,ytest)))"
   ]
  },
  {
   "cell_type": "markdown",
   "metadata": {},
   "source": [
    "### Randomised Search Cv"
   ]
  },
  {
   "cell_type": "code",
   "execution_count": null,
   "metadata": {},
   "outputs": [],
   "source": [
    "ada =  AdaBoostRegressor()\n",
    "lr1 = { 'n_estimators':[0,100,150,200,250,300,350],\n",
    "    'learning_rate':[0.1,0.3,0.5,0.7,0.9,1.0],\n",
    "     'loss' : ['linear', 'square', 'exponential'] } # check fthis loss is removed from the documentation or not \n",
    "random = RandomizedSearchCV(estimator =ada ,param_distributions=lr1 , cv =10 , n_iter = 10, verbose =2)\n",
    "random.fit(xtest,ytest)\n",
    "print(random.best_estimator_)\n",
    "print(random.best_params_)"
   ]
  },
  {
   "cell_type": "code",
   "execution_count": null,
   "metadata": {},
   "outputs": [],
   "source": [
    "model = random.best_estimator_\n",
    "model.fit(xtrain,ytrain)\n",
    "ypred = model.predict(xtest)\n",
    "print(\"Test data score - {}\".format(model.score(xtest,ytest)))\n",
    "print(\"Train data score - {}\".format(model.score(xtrain,ytrain)))\n",
    "print(\"r2 score = {}\".format(r2_score(ypred,ytest)))\n",
    "print(\"mean squared error = {}\".format(mean_squared_error(ypred,ytest)))"
   ]
  },
  {
   "cell_type": "markdown",
   "metadata": {},
   "source": [
    "### Grid Search cv"
   ]
  },
  {
   "cell_type": "code",
   "execution_count": null,
   "metadata": {},
   "outputs": [],
   "source": [
    "ada =  AdaBoostRegressor()\n",
    "lr1 = { 'n_estimators':[0,100,150,200,250,300,350],\n",
    "    'learning_rate':[0.1,0.3,0.5,0.7,0.9,1.0],\n",
    "     'loss' : ['linear', 'square', 'exponential'] } # check fthis loss is removed from the documentation or not \n",
    "random =  GridSearchCV(estimator =ada ,param_distributions=lr1 , cv =10 , n_iter = 10, verbose =2)\n",
    "random.fit(xtest,ytest)\n",
    "print(random.best_estimator_)\n",
    "print(random.best_params_)"
   ]
  },
  {
   "cell_type": "code",
   "execution_count": null,
   "metadata": {},
   "outputs": [],
   "source": [
    "model = random.best_estimator_\n",
    "model.fit(xtrain,ytrain)\n",
    "ypred = model.predict(xtest)\n",
    "print(\"Test data score - {}\".format(model.score(xtest,ytest)))\n",
    "print(\"Train data score - {}\".format(model.score(xtrain,ytrain)))\n",
    "print(\"r2 score = {}\".format(r2_score(ypred,ytest)))\n",
    "print(\"mean squared error = {}\".format(mean_squared_error(ypred,ytest)))"
   ]
  },
  {
   "cell_type": "code",
   "execution_count": null,
   "metadata": {},
   "outputs": [],
   "source": []
  }
 ],
 "metadata": {
  "kernelspec": {
   "display_name": "Python 3",
   "language": "python",
   "name": "python3"
  },
  "language_info": {
   "codemirror_mode": {
    "name": "ipython",
    "version": 3
   },
   "file_extension": ".py",
   "mimetype": "text/x-python",
   "name": "python",
   "nbconvert_exporter": "python",
   "pygments_lexer": "ipython3",
   "version": "3.8.5"
  }
 },
 "nbformat": 4,
 "nbformat_minor": 4
}
