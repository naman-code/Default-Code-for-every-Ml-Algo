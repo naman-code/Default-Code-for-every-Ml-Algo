{
 "cells": [
  {
   "cell_type": "markdown",
   "metadata": {},
   "source": [
    "# Support Vector Classifier"
   ]
  },
  {
   "cell_type": "code",
   "execution_count": null,
   "metadata": {},
   "outputs": [],
   "source": [
    "import padndas as pd \n",
    "import numpy as np\n",
    "import seaborn as sns\n",
    "importmatplotlib.pyplot as plt\n",
    "from sklearn.metrics import accuracy_score\n",
    "form sklearn.model_selection import train_test_split\n",
    "from sklearn.preprocessing import StandardScaler\n",
    "from sklearn.model_selection import cross_val_score\n",
    "from sklearn.model_selection import KFold\n",
    "from sklearn.ensemble import ExtraTreeRegressor\n",
    "from sklearn.svm import SVC\n",
    "from sklearn.model_selection import RandomizedSearchCV,GridSearchCV"
   ]
  },
  {
   "cell_type": "markdown",
   "metadata": {},
   "source": [
    "The data cleaning steps may vary form situation to situations so i am not adding the code for thaui this file comtains the normal usage of Support Vector Regressor and its Hyperparameter Optimisation"
   ]
  },
  {
   "cell_type": "markdown",
   "metadata": {},
   "source": [
    "1) Data loading\n",
    "2) Data information\n",
    "3) Removing Null data points\n",
    "4) Extracting all  important features \n",
    "5) removing correlated features\n",
    "6) visualising the data\n",
    "7) removing outliers"
   ]
  },
  {
   "cell_type": "code",
   "execution_count": null,
   "metadata": {},
   "outputs": [],
   "source": [
    "# just a baseline model on how to use we can set many values for \n",
    "svc = SVC( kernel='rbf', degree=3, gamma='scale')\n",
    "svc.fit(xtrain,ytrain)\n",
    "pred = svc.predict(xtest)\n",
    "print(\"Accuracy score - {} \".format(accuracy_score(ytest,ypred))\n",
    "print(\"Confusion matrix -\\n {} \".format(confusion_matrix(ytest,ypred)))\n",
    "print(\"Cllasification report - \\n {} \".format(classification_report(ytest,ypred)))\n",
    "print(\"Score(test) - {} \".format(svc_model.score(xtest,ytest)))\n",
    "print(\"Score(train) - {} \".format(svc_model.score(xtrain,ytrain)))"
   ]
  },
  {
   "cell_type": "markdown",
   "metadata": {},
   "source": [
    "### random search cv"
   ]
  },
  {
   "cell_type": "code",
   "execution_count": null,
   "metadata": {},
   "outputs": [],
   "source": [
    "svc = SVC(probability=True)\n",
    "param = {\n",
    "    'kernel' : ['linear', 'poly', 'rbf', 'sigmoid'],\n",
    "   'gamma' : ['scale', 'auto'],\n",
    "    'degree' : [3,4,5,6]\n",
    "}\n",
    "random_svc = RandomizedSearchCV(estimator = svc,param_distributions = param, cv = 15, n_iter = 15,verbose = 1,n_jobs = -1)\n",
    "random_svc.fit(xtrain,ytrain)"
   ]
  },
  {
   "cell_type": "code",
   "execution_count": null,
   "metadata": {},
   "outputs": [],
   "source": [
    "random_svc.best_score_"
   ]
  },
  {
   "cell_type": "code",
   "execution_count": null,
   "metadata": {},
   "outputs": [],
   "source": [
    "#getting the best estimator and findinf out the values of fpr tpr f1score comfusion matrix \n",
    "svc_model = random_svc.best_estimator_\n",
    "svc_model.fit(xtrain,ytrain)\n",
    "ypred_svc = svc_model.predict(xtest)\n",
    "print(\"Accuracy score - {} \".format(accuracy_score(ytest,ypred_svc)))\n",
    "print(\"Confusion matrix -\\n {} \".format(confusion_matrix(ytest,ypred_svc)))\n",
    "print(\"Cllasification report - \\n {} \".format(classification_report(ytest,ypred_svc)))\n",
    "print(\"Score(test) - {} \".format(svc_model.score(xtest,ytest)))\n",
    "print(\"Score(train) - {} \".format(svc_model.score(xtrain,ytrain)))"
   ]
  }
 ],
 "metadata": {
  "kernelspec": {
   "display_name": "Python 3",
   "language": "python",
   "name": "python3"
  },
  "language_info": {
   "codemirror_mode": {
    "name": "ipython",
    "version": 3
   },
   "file_extension": ".py",
   "mimetype": "text/x-python",
   "name": "python",
   "nbconvert_exporter": "python",
   "pygments_lexer": "ipython3",
   "version": "3.8.5"
  }
 },
 "nbformat": 4,
 "nbformat_minor": 4
}
