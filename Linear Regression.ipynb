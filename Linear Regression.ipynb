{
 "cells": [
  {
   "cell_type": "markdown",
   "metadata": {},
   "source": [
    "# Linear Regression"
   ]
  },
  {
   "cell_type": "markdown",
   "metadata": {},
   "source": [
    "this is just the code for linear regression brfore this we need to perform data cleaning feature engineering and feature extration"
   ]
  },
  {
   "cell_type": "code",
   "execution_count": null,
   "metadata": {},
   "outputs": [],
   "source": [
    "import pandas as pd\n",
    "import seaborn as sns\n",
    "importmatplotlib.pyplot as plt\n",
    "from sklearn.linear_model import LinearRegression\n",
    "from sklearn.metrics import accuracy_score\n",
    "form sklearn.model_selection import train_test_split\n",
    "from sklearn.preprocessing import StandardScaler\n",
    "from sklearn.model_selection import cross_val_score\n",
    "from sklearn.model_selection import KFold\n",
    "from sklearn.ensemble import ExtraTreeRegressor"
   ]
  },
  {
   "cell_type": "code",
   "execution_count": null,
   "metadata": {},
   "outputs": [],
   "source": [
    "#dependent and independent feature extraction\n",
    "data = pd.read_csv(\"\")\n",
    "x = data.drop[\"target_col_name\"]\n",
    "y = data.target_col_name"
   ]
  },
  {
   "cell_type": "code",
   "execution_count": null,
   "metadata": {},
   "outputs": [],
   "source": [
    "#data visualisation and feature importance (extra tree regressor is the fastest working algo\n",
    "#                                                    which can be used to calculate the best features)\n",
    "rr = ExtraTreeRegressor()\n",
    "rr.fit(xtrain,ytrain)\n",
    "ypr = rr.predict(xtest)\n",
    "print(\"Accuracy score - {} \".format(accuracy_score(ytest,ypr)))\n",
    "print(\"Score(test) - {} \".format(rr.score(xtest,ytest)))\n",
    "print(\"Score(train) - {} \".format(rr.score(xtrain,ytrain)))"
   ]
  },
  {
   "cell_type": "code",
   "execution_count": null,
   "metadata": {},
   "outputs": [],
   "source": [
    "#plotting the fetureimportance\n",
    "feature = rr.feature_importances_\n",
    "plt.figure(figsize = (16,10))\n",
    "sns.barplot(x = data.columns.drop(\"output\"), y = feature)\n",
    "plt.plot()"
   ]
  },
  {
   "cell_type": "code",
   "execution_count": null,
   "metadata": {},
   "outputs": [],
   "source": [
    "#plotting a heatmap between corelations (pearson)\n",
    "sns.heatmap(data.corr(),annot = True)\n",
    "plt.show()"
   ]
  },
  {
   "cell_type": "code",
   "execution_count": null,
   "metadata": {},
   "outputs": [],
   "source": [
    "# Code to make a list which can be used to remove or etract the couplets of features which are highly corellated\n",
    "dat = 0 \n",
    "epp = []\n",
    "col = data.columns\n",
    "for i in col:\n",
    "    for j in col:\n",
    "        dat = data[i].corr(data[j])\n",
    "        if dat > 0.4:\n",
    "            epp.append([i,j])\n",
    "print(epp)\n",
    "print(len(epp))\n",
    "\n",
    "\n",
    "# these list aboce will have some common pairs or repeated names so code blow can be used \n",
    "#to extract the final list and we can remoeve these features if we wiah\n",
    "res = []\n",
    "for i in epp:\n",
    "    o = [i[1], i[0]]\n",
    "    if i[0] != i[1] and i  not in res and o not in res :\n",
    "        res.append(i)\n",
    "print(res)\n",
    "print(len(res))"
   ]
  },
  {
   "cell_type": "code",
   "execution_count": null,
   "metadata": {},
   "outputs": [],
   "source": [
    "#data visualisation\n",
    "plt.figurre(figsize = (16,9))\n",
    "sns.pairplot(data)\n",
    "plt.show()"
   ]
  },
  {
   "cell_type": "code",
   "execution_count": null,
   "metadata": {},
   "outputs": [],
   "source": [
    "#transforming data between 0 to 1\n",
    "sc = StandardScaler()\n",
    "sc.fit(x)\n",
    "x = sc.transdorm(x)"
   ]
  },
  {
   "cell_type": "code",
   "execution_count": null,
   "metadata": {},
   "outputs": [],
   "source": [
    "# data splitting \n",
    "x_train,x_test,y_train,y_test = train_test_split (x,y,test_size = 0.3,random_state = 56)\n",
    "print(x_test.shape,x_train.shape)\n",
    "print(y_test.shape,y_train.shape)"
   ]
  },
  {
   "cell_type": "markdown",
   "metadata": {},
   "source": [
    "Training linear model"
   ]
  },
  {
   "cell_type": "code",
   "execution_count": null,
   "metadata": {},
   "outputs": [],
   "source": [
    "lrmodel = LinearRegression()\n",
    "lrmodel.fit(x_train,y_train)\n",
    "ypred = lrmodel.predict(x_test)\n",
    "print(\"Test data accuracy {}\".format(lrmodel.score(x_test,y_test))_\n",
    "print(\"Train data accuracy {}\".format(lrmodel.score(x_train,y_train)))"
   ]
  },
  {
   "cell_type": "markdown",
   "metadata": {},
   "source": [
    "corss val score"
   ]
  },
  {
   "cell_type": "code",
   "execution_count": null,
   "metadata": {},
   "outputs": [],
   "source": [
    "model = LinearRegression()\n",
    "kfold_validation=KFold(10)\n",
    "results=cross_val_score(model,x,y,cv=kfold_validation)\n",
    "print(results)\n",
    "print(np.mean(results))"
   ]
  },
  {
   "cell_type": "raw",
   "metadata": {},
   "source": [
    "Plotting the graph for test data and a stright line for predictions"
   ]
  },
  {
   "cell_type": "code",
   "execution_count": null,
   "metadata": {},
   "outputs": [],
   "source": [
    "plt.scatter(x_test,y_test)\n",
    "plt.plot(x_test,ypred)\n",
    "plt.show()"
   ]
  }
 ],
 "metadata": {
  "kernelspec": {
   "display_name": "Python 3",
   "language": "python",
   "name": "python3"
  },
  "language_info": {
   "codemirror_mode": {
    "name": "ipython",
    "version": 3
   },
   "file_extension": ".py",
   "mimetype": "text/x-python",
   "name": "python",
   "nbconvert_exporter": "python",
   "pygments_lexer": "ipython3",
   "version": "3.8.8"
  }
 },
 "nbformat": 4,
 "nbformat_minor": 4
}
