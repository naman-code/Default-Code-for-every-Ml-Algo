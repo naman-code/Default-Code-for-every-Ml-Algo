{
 "cells": [
  {
   "cell_type": "markdown",
   "metadata": {},
   "source": [
    "#  Adaptive Boosting Classifier"
   ]
  },
  {
   "cell_type": "code",
   "execution_count": null,
   "metadata": {},
   "outputs": [],
   "source": [
    "from sklearn.ensemble import AdaBoostClassifier\n",
    "from sklearn.metrics import classification_report,accuracy_score,confusion_matrix\n",
    "form sklearn.model_selection import GridSearchCV, RandomizedSearchCV"
   ]
  },
  {
   "cell_type": "code",
   "execution_count": null,
   "metadata": {},
   "outputs": [],
   "source": [
    "ada =  AdaBoostClassifier(n_estimator = 200, learning_rate = 0.1)\n",
    "ada.fit(xtrain,ytrain)\n",
    "ypred = ada.predict(xtest)\n",
    "print(\"Accuracy score - {} \".format(accuracy_score(ytest,ada_pred)))\n",
    "print(\"Confusion matrix -\\n {} \".format(confusion_matrix(ytest,ada_pred)))\n",
    "print(\"Clasification report - \\n {} \".format(classification_report(ytest,ada_pred)))\n",
    "print(\"Score(test) - {} \".format(ada.score(xtest,ytest)))\n",
    "print(\"Score(train) - {} \".format(ada.score(xtrain,ytrain)))"
   ]
  },
  {
   "cell_type": "markdown",
   "metadata": {},
   "source": [
    "### Randomized Search Cv"
   ]
  },
  {
   "cell_type": "code",
   "execution_count": null,
   "metadata": {},
   "outputs": [],
   "source": [
    "#importing ada boost classifier and implementing random search on it \n",
    "\n",
    "ada =  AdaBoostClassifier()\n",
    "para = {\n",
    "     'n_estimators' :[50,100,150,200,250,300,350,400,450,500,550,600],\n",
    "    'learning_rate' : [0.1,0.2,0.3,0.4,0.5,0.6,0.7,0.8,0.9,1.0,1.1,1.2],\n",
    "    'algorithm' : ['SAMME', 'SAMME.R']\n",
    "}\n",
    "random_ada = RandomizedSearchCV(estimator = ada,param_distributions = para, cv = 7, n_iter = 100,verbose = 1,n_jobs = -1)\n",
    "random_ada.fit(xtrain,ytrain)"
   ]
  },
  {
   "cell_type": "code",
   "execution_count": null,
   "metadata": {},
   "outputs": [],
   "source": [
    "#gettin the best score value and the best estimator\n",
    "random_ada.best_score_\n",
    "random_ada.best_estimator_"
   ]
  },
  {
   "cell_type": "code",
   "execution_count": null,
   "metadata": {},
   "outputs": [],
   "source": [
    "#trainin a new model om the best estimator of the randomized search cv\n",
    "ada_random = random_ada.best_estimator_\n",
    "ada_pred = ada_random.predict(xtest)\n",
    "ada_predp = ada_random.predict_proba(xtest)\n",
    "print(\"Accuracy score - {} \".format(accuracy_score(ytest,ada_pred)))\n",
    "print(\"Confusion matrix -\\n {} \".format(confusion_matrix(ytest,ada_pred)))\n",
    "print(\"Clasification report - \\n {} \".format(classification_report(ytest,ada_pred)))\n",
    "print(\"Score(test) - {} \".format(ada_random.score(xtest,ytest)))\n",
    "print(\"Score(train) - {} \".format(ada_random.score(xtrain,ytrain)))"
   ]
  },
  {
   "cell_type": "markdown",
   "metadata": {},
   "source": [
    "### Grid Search CV "
   ]
  },
  {
   "cell_type": "code",
   "execution_count": null,
   "metadata": {},
   "outputs": [],
   "source": [
    "ada =  AdaBoostClassifier()\n",
    "para = {\n",
    "     'n_estimators' :[50,100,150,200,250,300,350,400,450,500,550,600],\n",
    "    'learning_rate' : [0.1,0.2,0.3,0.4,0.5,0.6,0.7,0.8,0.9,1.0,1.1,1.2],\n",
    "    'algorithm' : ['SAMME', 'SAMME.R']\n",
    "}\n",
    "random_ada = GridSearchCV(estimator = ada,param_distributions = para, cv = 7, n_iter = 100,verbose = 1,n_jobs = -1)\n",
    "random_ada.fit(xtrain,ytrain)"
   ]
  },
  {
   "cell_type": "code",
   "execution_count": null,
   "metadata": {},
   "outputs": [],
   "source": [
    "#gettin the best score value and the best estimator\n",
    "random_ada.best_score_\n",
    "random_ada.best_estimator_"
   ]
  },
  {
   "cell_type": "code",
   "execution_count": null,
   "metadata": {},
   "outputs": [],
   "source": [
    "#trainin a new model om the best estimator of the randomized search cv\n",
    "ada_random = random_ada.best_estimator_\n",
    "ada_pred = ada_random.predict(xtest)\n",
    "ada_predp = ada_random.predict_proba(xtest)\n",
    "print(\"Accuracy score - {} \".format(accuracy_score(ytest,ada_pred)))\n",
    "print(\"Confusion matrix -\\n {} \".format(confusion_matrix(ytest,ada_pred)))\n",
    "print(\"Clasification report - \\n {} \".format(classification_report(ytest,ada_pred)))\n",
    "print(\"Score(test) - {} \".format(ada_random.score(xtest,ytest)))\n",
    "print(\"Score(train) - {} \".format(ada_random.score(xtrain,ytrain)))"
   ]
  }
 ],
 "metadata": {
  "kernelspec": {
   "display_name": "Python 3",
   "language": "python",
   "name": "python3"
  },
  "language_info": {
   "codemirror_mode": {
    "name": "ipython",
    "version": 3
   },
   "file_extension": ".py",
   "mimetype": "text/x-python",
   "name": "python",
   "nbconvert_exporter": "python",
   "pygments_lexer": "ipython3",
   "version": "3.8.5"
  }
 },
 "nbformat": 4,
 "nbformat_minor": 4
}
