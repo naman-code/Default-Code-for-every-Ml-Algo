{
 "cells": [
  {
   "cell_type": "markdown",
   "metadata": {},
   "source": [
    "# K-Nearest Neighbour Classifier"
   ]
  },
  {
   "cell_type": "code",
   "execution_count": null,
   "metadata": {},
   "outputs": [],
   "source": [
    "from sklearn.neighbors import KNeighborsClassifier as knc\n",
    "from sklearn.metrics import accuracy_score,classification_report,confusion_matrix\n",
    "from sklearn.model_selection import GridSearchCV, RandomizedSearchCV"
   ]
  },
  {
   "cell_type": "code",
   "execution_count": null,
   "metadata": {},
   "outputs": [],
   "source": [
    "kn = knc(n_neighbors=5,  weights='uniform', algorithm='auto', n_jobs= -1)\n",
    "kn.fit(xtrain,ytrain)\n",
    "ypred = kn.predict(xtest)\n",
    "print(\" Accuracy score test data - {}\".format(accuracy_score(xtest,ytest)))\n",
    "print(\" Accuracy score train data - {}\".format(accuracy_score(xtrain,ytrain)))\n",
    "print(\" Classification report - {}\".format(classification_report(ytest,ypred)))\n",
    "print(\" Confusio matrix - {}\".format(confusion_matriz(ytest,ypred)))"
   ]
  },
  {
   "cell_type": "code",
   "execution_count": null,
   "metadata": {},
   "outputs": [],
   "source": [
    "#Plotting the graph\n",
    "kn.kneighbors_graph(X, \"no of nrighbours in int\", mode='connectivity', include_self=True)"
   ]
  },
  {
   "cell_type": "markdown",
   "metadata": {},
   "source": [
    "# Randomised Search Cv"
   ]
  },
  {
   "cell_type": "code",
   "execution_count": null,
   "metadata": {},
   "outputs": [],
   "source": [
    "kn = knc()\n",
    "params1 = {\"n_neighbors\" : [5,7,9,12,13,15,20,22,25],\n",
    "           \"weights\" : ['uniform', 'distance'],\n",
    "           \"algorithm\" :['auto', 'ball_tree', 'kd_tree', 'brute'],\n",
    "           \"leaf_size\" : [30,40,50]\n",
    "           }\n",
    "random = RandomizedSearchCV(estimator = knr,param_distributions = params1,n_iter = 150,cv = 4,verbose = 3,n_jobs = -1)\n",
    "random.fit(xtrain,ytrain)"
   ]
  },
  {
   "cell_type": "code",
   "execution_count": null,
   "metadata": {},
   "outputs": [],
   "source": [
    "random.best_params_"
   ]
  },
  {
   "cell_type": "code",
   "execution_count": null,
   "metadata": {},
   "outputs": [],
   "source": [
    "random.best_score_"
   ]
  },
  {
   "cell_type": "code",
   "execution_count": null,
   "metadata": {},
   "outputs": [],
   "source": [
    "model = ramdom.best_estimator_\n",
    "ypred = model.predict(xtest)\n",
    "print(\" Accuracy score test data - {}\".format(accuracy_score(xtest,ytest)))\n",
    "print(\" Accuracy score train data - {}\".format(accuracy_score(xtrain,ytrain)))\n",
    "print(\" Classification report - {}\".format(classification_report(ytest,ypred)))\n",
    "print(\" Confusio matrix - {}\".format(confusion_matriz(ytest,ypred)))"
   ]
  },
  {
   "cell_type": "code",
   "execution_count": null,
   "metadata": {},
   "outputs": [],
   "source": [
    "#Plotting the graph\n",
    "model.kneighbors_graph(X, \"no of nrighbours in int\", mode='connectivity', include_self=True)"
   ]
  },
  {
   "cell_type": "markdown",
   "metadata": {},
   "source": [
    "# Gradient Search cv"
   ]
  },
  {
   "cell_type": "code",
   "execution_count": null,
   "metadata": {},
   "outputs": [],
   "source": [
    "kn = knc()\n",
    "params1 = {\"n_neighbors\" : [5,7,9,12,13,15,20,22,25],\n",
    "           \"weights\" : ['uniform', 'distance'],\n",
    "           \"algorithm\" :['auto', 'ball_tree', 'kd_tree', 'brute'],\n",
    "           \"leaf_size\" : [30,40,50]\n",
    "           }\n",
    "grid = GradientSearchCV(estimator = knr,param_distributions = params1,n_iter = 150,cv = 4,verbose = 3,n_jobs = -1)\n",
    "grid.fit(xtrain,ytrain)"
   ]
  },
  {
   "cell_type": "code",
   "execution_count": null,
   "metadata": {},
   "outputs": [],
   "source": [
    "grid.best_params_"
   ]
  },
  {
   "cell_type": "code",
   "execution_count": null,
   "metadata": {},
   "outputs": [],
   "source": [
    "grid.best_score_"
   ]
  },
  {
   "cell_type": "code",
   "execution_count": null,
   "metadata": {},
   "outputs": [],
   "source": [
    "model = grid.best_estimator_\n",
    "ypred = model.predict(xtest)\n",
    "print(\" score = {}\".format(accuracy_score(xtrain,ytrain)))\n",
    "print(\" score = {}\".format(accuracy_score(xtest,ytest)))\n",
    "print(\"accuracy score (b/w y test and y pred = {}\".format(accuracy_score(ypred,ytest))\n",
    "print(\"Confusion matrix {}\".format(cofusion_matrix(ytest,ypred)))\n",
    "print(\"Classification Report {}\".format(classification_report(ytest,ypred)))"
   ]
  },
  {
   "cell_type": "code",
   "execution_count": null,
   "metadata": {},
   "outputs": [],
   "source": [
    "#Plotting the graph\n",
    "model.kneighbors_graph(X, \"no of nrighbours in int\", mode='connectivity', include_self=True)"
   ]
  },
  {
   "cell_type": "markdown",
   "metadata": {},
   "source": [
    "### After this you can do ur things as if making graphs and other things "
   ]
  }
 ],
 "metadata": {
  "kernelspec": {
   "display_name": "Python 3",
   "language": "python",
   "name": "python3"
  },
  "language_info": {
   "codemirror_mode": {
    "name": "ipython",
    "version": 3
   },
   "file_extension": ".py",
   "mimetype": "text/x-python",
   "name": "python",
   "nbconvert_exporter": "python",
   "pygments_lexer": "ipython3",
   "version": "3.8.5"
  }
 },
 "nbformat": 4,
 "nbformat_minor": 4
}
