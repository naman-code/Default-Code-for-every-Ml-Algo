{
 "cells": [
  {
   "cell_type": "markdown",
   "metadata": {},
   "source": [
    "# Gradient Boosting Regressor"
   ]
  },
  {
   "cell_type": "code",
   "execution_count": null,
   "metadata": {},
   "outputs": [],
   "source": [
    "from sklearn.ensemble import GradientBoostingRegressor\n",
    "from sklearn.model_selection import GridSearchCV, RandomizedSearchCV\n",
    "from sklearn.metrics import r2_score, mean_squared_error"
   ]
  },
  {
   "cell_type": "code",
   "execution_count": null,
   "metadata": {},
   "outputs": [],
   "source": [
    "gbr = GradientBoostingRegressor(\n",
    "    loss='ls',\n",
    "    learning_rate=0.1,\n",
    "    n_estimators=100,   \n",
    "    criterion='friedman_mse',\n",
    "    min_samples_split=2,\n",
    "    min_samples_leaf=1,\n",
    "    max_features=\"auto\"\n",
    "),\n",
    "    verbose=0,\n",
    "gbr.fit(xtrain,ytrain)\n",
    "ypred_gbr = gbr.predict(xtest)\n",
    "print(\" Train score = {}\".format(gbr.score(xtrain,ytrain)))\n",
    "print(\" Test score = {}\".format(gbr.score(xtest,ytest)))\n",
    "print(\"r2 score = {}\".format(r2_score(ypred_gbr,ytest)))\n",
    "print(\"mean squared error = {}\".format(mean_squared_error(ypred_gbr,ytest)))"
   ]
  },
  {
   "cell_type": "markdown",
   "metadata": {},
   "source": [
    "### Random Search Cv"
   ]
  },
  {
   "cell_type": "code",
   "execution_count": null,
   "metadata": {},
   "outputs": [],
   "source": [
    "gb = GradientBoostingRegressor()\n",
    "params1 = {\"n_estimators\": [100,200,300,400,500,600,700,800,900,1000,1100,1200],\n",
    "           \"loss\" :  ['ls', 'lad', 'huber', 'quantile'],\n",
    "    \"learning_rate\" :[0.1,0.2],\n",
    "    \"criterion\" : ['friedman_mse', 'mse'],\n",
    "    \"min_samples_split\" : [3,5,7,9,4,11],\n",
    "    \"min_samples_leaf\" : [3,5,7,6,9,11,13],\n",
    "    \"max_depth\" : [9,11,15,17,21,25,27,33,37,39],\n",
    "    \"max_features\" :['auto', 'sqrt', 'log2'],\n",
    "         }\n",
    "random1 = RandomizedSearchCV(estimator = gb,param_distributions = params1,n_iter = 150,cv = 4,verbose = 3,n_jobs = -1)\n",
    "random1.fit(xtrain,ytrain)"
   ]
  },
  {
   "cell_type": "code",
   "execution_count": null,
   "metadata": {},
   "outputs": [],
   "source": [
    "random1.best_params_"
   ]
  },
  {
   "cell_type": "code",
   "execution_count": null,
   "metadata": {},
   "outputs": [],
   "source": [
    "random1.best_score_"
   ]
  },
  {
   "cell_type": "code",
   "execution_count": null,
   "metadata": {},
   "outputs": [],
   "source": [
    "# training the best model we got from  random search and training the model\n",
    "model =  random1.best_estimator_\n",
    "model.fit(xtrain,ytrain)\n",
    "ypred = model.predict(xtest)\n",
    "print(\" Train score = {}\".format(model.score(xtrain,ytrain)))\n",
    "print(\" Test score = {}\".format(model.score(xtest,ytest)))\n",
    "print(\"r2 score = {}\".format(r2_score(ypred,ytest)))\n",
    "print(\"mean squared error = {}\".format(mean_squared_error(ypred,ytest)))"
   ]
  },
  {
   "cell_type": "markdown",
   "metadata": {},
   "source": [
    "### Grid Search Cv"
   ]
  },
  {
   "cell_type": "code",
   "execution_count": null,
   "metadata": {},
   "outputs": [],
   "source": [
    "gb = GradientBoostingRegressor()\n",
    "params1 = {\"n_estimators\": [100,200,300,400,500,600,700,800,900,1000,1100,1200],\n",
    "           \"loss\" :  ['ls', 'lad', 'huber', 'quantile'],\n",
    "    \"learning_rate\" :[0.1,0.2],\n",
    "    \"criterion\" : ['friedman_mse', 'mse'],\n",
    "    \"min_samples_split\" : [3,5,7,9,4,11],\n",
    "    \"min_samples_leaf\" : [3,5,7,6,9,11,13],\n",
    "    \"max_depth\" : [9,11,15,17,21,25,27,33,37,39],\n",
    "    \"max_features\" :['auto', 'sqrt', 'log2'],\n",
    "         }\n",
    "grid = RandomizedSearchCV(estimator = gb,param_distributions = params1,n_iter = 150,cv = 4,verbose = 3,n_jobs = -1)\n",
    "grid.fit(xtrain,ytrain)"
   ]
  },
  {
   "cell_type": "code",
   "execution_count": null,
   "metadata": {},
   "outputs": [],
   "source": [
    "grid.best_params_"
   ]
  },
  {
   "cell_type": "code",
   "execution_count": null,
   "metadata": {},
   "outputs": [],
   "source": [
    "grid.best_score_"
   ]
  },
  {
   "cell_type": "code",
   "execution_count": null,
   "metadata": {},
   "outputs": [],
   "source": [
    "# training the best model we got from grid search and training the model\n",
    "model =  grid.best_estimator_\n",
    "model.fit(xtrain,ytrain)\n",
    "ypred = model.predict(xtest)\n",
    "print(\" Train score = {}\".format(model.score(xtrain,ytrain)))\n",
    "print(\" Test score = {}\".format(model.score(xtest,ytest)))\n",
    "print(\"r2 score = {}\".format(r2_score(ypred,ytest)))\n",
    "print(\"mean squared error = {}\".format(mean_squared_error(ypred,ytest)))"
   ]
  }
 ],
 "metadata": {
  "kernelspec": {
   "display_name": "Python 3",
   "language": "python",
   "name": "python3"
  },
  "language_info": {
   "codemirror_mode": {
    "name": "ipython",
    "version": 3
   },
   "file_extension": ".py",
   "mimetype": "text/x-python",
   "name": "python",
   "nbconvert_exporter": "python",
   "pygments_lexer": "ipython3",
   "version": "3.8.5"
  }
 },
 "nbformat": 4,
 "nbformat_minor": 4
}
