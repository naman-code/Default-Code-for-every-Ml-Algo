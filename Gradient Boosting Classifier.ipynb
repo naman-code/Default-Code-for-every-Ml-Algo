{
 "cells": [
  {
   "cell_type": "markdown",
   "metadata": {},
   "source": [
    "   #  Gradient Boosting Classifier"
   ]
  },
  {
   "cell_type": "code",
   "execution_count": null,
   "metadata": {},
   "outputs": [],
   "source": [
    "from sklearn.model_selection import GridSearchCV, RandomizedSearchCV\n",
    "from sklearn.metrics import classification_report,accuracy_score,confusion_matrix\n",
    "from sklearn.ensemble import GradientBoostingClassifier"
   ]
  },
  {
   "cell_type": "code",
   "execution_count": null,
   "metadata": {},
   "outputs": [],
   "source": [
    "gbc = GradientBoostingClassifier( \n",
    "    loss='exponential',   # uses ada boost if we use  deviance it means logistic regression\n",
    "    learning_rate=0.1,\n",
    "    n_estimators=100,\n",
    "    criterion='friedman_mse',\n",
    "    min_samples_split=2,\n",
    "    min_samples_leaf=1,\n",
    "    max_features=\"auto\")\n",
    "gbc.fit(xtrain,ytrain)\n",
    "ypred = gbc.predict(xtest)\n",
    "\n",
    "print(\" score = {}\".format(gbc.score(xtrain,ytrain)))\n",
    "print(\" score = {}\".format(gbc.score(xtest,ytest)))\n",
    "print(\"accuracy score (b/w y test and y pred = {}\".format(accuracy_score(ypred,ytest))\n",
    "print(\"Confusion matrix {}\".format(cofusion_matrix(ytest,ypred)))\n",
    "print(\"Classification Report {}\".format(classification_report(ytest,ypred)))"
   ]
  },
  {
   "cell_type": "markdown",
   "metadata": {},
   "source": [
    "### Randomised Search Cv"
   ]
  },
  {
   "cell_type": "code",
   "execution_count": null,
   "metadata": {},
   "outputs": [],
   "source": [
    "gb = GradientBoostingClassifier()\n",
    "params1 = {\"n_estimators\": [100,200,300,400,500,600,700,800,900,1000,1100,1200],\n",
    "           \"loss\" :  ['exponential', 'deviance'],\n",
    "    \"learning_rate\" :[0.1,0.2,0.4],\n",
    "    \"criterion\" : ['friedman_mse', 'mse'],\n",
    "    \"min_samples_split\" : [3,5,7,9,4,11],\n",
    "    \"min_samples_leaf\" : [3,5,7,6,9,11,13],\n",
    "    \"max_depth\" : [9,11,15,17,21,25,27,33,37,39],\n",
    "    \"max_features\" :['auto', 'sqrt', 'log2'],\n",
    "         }\n",
    "random1 = RandomizedSearchCV(estimator = gb,param_distributions = params1,n_iter = 150,cv = 4,verbose = 3,n_jobs = -1)\n",
    "random1.fit(xtrain,ytrain)"
   ]
  },
  {
   "cell_type": "code",
   "execution_count": null,
   "metadata": {},
   "outputs": [],
   "source": [
    "random1.best_params_"
   ]
  },
  {
   "cell_type": "code",
   "execution_count": null,
   "metadata": {},
   "outputs": [],
   "source": [
    "random1.best_score_"
   ]
  },
  {
   "cell_type": "code",
   "execution_count": null,
   "metadata": {},
   "outputs": [],
   "source": [
    "# training the best model we got from  random search and training the model\n",
    "model =  random1.best_estimator_\n",
    "model.fit(xtrain,ytrain)\n",
    "ypred = model.predict(xtest)\n",
    "print(\" score = {}\".format(random1.score(xtrain,ytrain)))\n",
    "print(\" score = {}\".format(random1.score(xtest,ytest)))\n",
    "print(\"accuracy score (b/w y test and y pred = {}\".format(accuracy_score(ypred,ytest))\n",
    "print(\"Confusion matrix {}\".format(cofusion_matrix(ytest,ypred)))\n",
    "print(\"Classification Report {}\".format(classification_report(ytest,ypred)))"
   ]
  },
  {
   "cell_type": "markdown",
   "metadata": {},
   "source": [
    "### Grid Search Cv"
   ]
  },
  {
   "cell_type": "code",
   "execution_count": null,
   "metadata": {},
   "outputs": [],
   "source": [
    "gb = GradientBoostingRegressor()\n",
    "params1 = {\"n_estimators\": [100,200,300,400,500,600,700,800,900,1000,1100,1200],\n",
    "           \"loss\" :  ['exponential', 'deviance'],\n",
    "    \"learning_rate\" :[0.1,0.2],\n",
    "    \"criterion\" : ['friedman_mse', 'mse'],\n",
    "    \"min_samples_split\" : [3,5,7,9,4,11],\n",
    "    \"min_samples_leaf\" : [3,5,7,6,9,11,13],\n",
    "    \"max_depth\" : [9,11,15,17,21,25,27,33,37,39],\n",
    "    \"max_features\" :['auto', 'sqrt', 'log2'],\n",
    "         }\n",
    "grid = RandomizedSearchCV(estimator = gb,param_distributions = params1,n_iter = 150,cv = 4,verbose = 3,n_jobs = -1)\n",
    "grid.fit(xtrain,ytrain)"
   ]
  },
  {
   "cell_type": "code",
   "execution_count": null,
   "metadata": {},
   "outputs": [],
   "source": [
    "grid.best_params_"
   ]
  },
  {
   "cell_type": "code",
   "execution_count": null,
   "metadata": {},
   "outputs": [],
   "source": [
    "grid.best_score_"
   ]
  },
  {
   "cell_type": "code",
   "execution_count": null,
   "metadata": {},
   "outputs": [],
   "source": [
    "# training the best model we got from grid search and training the model\n",
    "model =  grid.best_estimator_\n",
    "model.fit(xtrain,ytrain)\n",
    "ypred = model.predict(xtest)\n",
    "print(\" score = {}\".format(model.score(xtrain,ytrain)))\n",
    "print(\" score = {}\".format(model.score(xtest,ytest)))\n",
    "print(\"accuracy score (b/w y test and y pred = {}\".format(accuracy_score(ypred,ytest))\n",
    "print(\"Confusion matrix {}\".format(cofusion_matrix(ytest,ypred)))\n",
    "print(\"Classification Report {}\".format(classification_report(ytest,ypred)))"
   ]
  }
 ],
 "metadata": {
  "kernelspec": {
   "display_name": "Python 3",
   "language": "python",
   "name": "python3"
  },
  "language_info": {
   "codemirror_mode": {
    "name": "ipython",
    "version": 3
   },
   "file_extension": ".py",
   "mimetype": "text/x-python",
   "name": "python",
   "nbconvert_exporter": "python",
   "pygments_lexer": "ipython3",
   "version": "3.8.5"
  }
 },
 "nbformat": 4,
 "nbformat_minor": 4
}
