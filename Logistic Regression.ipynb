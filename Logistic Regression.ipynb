{
 "cells": [
  {
   "cell_type": "code",
   "execution_count": null,
   "metadata": {},
   "outputs": [],
   "source": [
    "import pandas as pd\n",
    "import numpy as np\n",
    "import matplotlib.pyplot as plt\n",
    "import seaborn as sns\n",
    "from sklearn.model_selection import train_test_split as tts\n",
    "from sklearn.linear_model import LogisticRegression\n",
    "from sklearn.ensemble import ExtraTreeClassifier\n",
    "from sklearn.metrics import classification_report,accuracy_score,confusion_matrix\n",
    "from sklearn.preprocessing import StandardScaler"
   ]
  },
  {
   "cell_type": "code",
   "execution_count": null,
   "metadata": {},
   "outputs": [],
   "source": [
    "#data cleanng and visualisation steps\n",
    "data = pd.read_csv(\".csv\")\n",
    "data.isnull().sum() #checking for any Null values\n",
    "data.dropna(inplace = True) # if we have abundant data we can delete \n",
    "for i in data.columns: #if we have less data points we can insert those null places with mean or median or mode of that column\n",
    "    data[i].replace(np.Nan , data[i].mean()) \n",
    "data.describe()\n",
    "data.info()"
   ]
  },
  {
   "cell_type": "code",
   "execution_count": null,
   "metadata": {},
   "outputs": [],
   "source": [
    "y = data[\"output\"]\n",
    "x = data.drop(\"output\")"
   ]
  },
  {
   "cell_type": "code",
   "execution_count": null,
   "metadata": {},
   "outputs": [],
   "source": [
    "#data visualisation and feature importance (extra forest calassifier is the fastest working algo\n",
    "#                                                    which can be used to calculate the best features)\n",
    "rr = ExtraTreeClassifier()\n",
    "rr.fit(xtrain,ytrain)\n",
    "ypr = rr.predict(xtest)\n",
    "print(\"Accuracy score - {} \".format(accuracy_score(ytest,ypr)))\n",
    "print(\"Confusion matrix -\\n {} \".format(confusion_matrix(ytest,ypr)))\n",
    "print(\"Cllasification report - \\n {} \".format(classification_report(ytest,ypr)))\n",
    "print(\"Score(test) - {} \".format(rr.score(xtest,ytest)))\n",
    "print(\"Score(train) - {} \".format(rr.score(xtrain,ytrain)))"
   ]
  },
  {
   "cell_type": "code",
   "execution_count": null,
   "metadata": {},
   "outputs": [],
   "source": [
    "#plotting the fetureimportance\n",
    "feature = rr.feature_importances_\n",
    "plt.figure(figsize = (16,10))\n",
    "sns.barplot(x = data.columns.drop(\"output\"), y = feature)\n",
    "plt.plot()"
   ]
  },
  {
   "cell_type": "code",
   "execution_count": null,
   "metadata": {},
   "outputs": [],
   "source": [
    "#Ploting a heatmap based on the corellations of different features\n",
    "plt.figure(figsize = (20,15))\n",
    "sns.heatmap(data.corr(),annot = True)"
   ]
  },
  {
   "cell_type": "code",
   "execution_count": null,
   "metadata": {},
   "outputs": [],
   "source": [
    "# Codeto make a list which can be used to remove or etract the couplets of features which are highly corellated\n",
    "dat = 0 \n",
    "epp = []\n",
    "col = data.columns\n",
    "for i in col:\n",
    "    for j in col:\n",
    "        dat = data[i].corr(data[j])\n",
    "        if dat > 0.4:\n",
    "            epp.append([i,j])\n",
    "print(epp)\n",
    "print(len(epp))\n",
    "\n",
    "\n",
    "# these list aboce will have some common pairs or repeated names so code blow can be used \n",
    "#to extract the final list and we can remoeve these features if we wiah\n",
    "res = []\n",
    "for i in epp:\n",
    "    o = [i[1], i[0]]\n",
    "    if i[0] != i[1] and i  not in res and o not in res :\n",
    "        res.append(i)\n",
    "print(res)\n",
    "print(len(res))"
   ]
  },
  {
   "cell_type": "markdown",
   "metadata": {},
   "source": [
    "# Standard Scaler"
   ]
  },
  {
   "cell_type": "code",
   "execution_count": null,
   "metadata": {},
   "outputs": [],
   "source": [
    "sc = StandardScaler()\n",
    "sc.fit(x)\n",
    "x = sc.transform(x)\n",
    "print(x)\n",
    "print(x.shape)"
   ]
  },
  {
   "cell_type": "markdown",
   "metadata": {},
   "source": [
    "# Data splitting"
   ]
  },
  {
   "cell_type": "code",
   "execution_count": null,
   "metadata": {},
   "outputs": [],
   "source": [
    "xtrain,xtest,ytrain,ytest = tts(x,y,test_size = 0.3,random_state = 87)"
   ]
  },
  {
   "cell_type": "markdown",
   "metadata": {},
   "source": [
    "# Training model and finding best value of threshold "
   ]
  },
  {
   "cell_type": "code",
   "execution_count": null,
   "metadata": {},
   "outputs": [],
   "source": [
    "lr = LogisticRegression()\n",
    "lr.fit(xtrain,ytrain)\n",
    "ypred = lr.predict(xtest)\n",
    "print(\"Accuracy score - {} \".format(accuracy_score(ytest,ypred)))\n",
    "print(\"Confusion matrix -\\n {} \".format(confusion_matrix(ytest,ypred)))\n",
    "print(\"Cllasification report - \\n {} \".format(classification_report(ytest,ypred)))\n",
    "print(\"Score(test) - {} \".format(lr.score(xtest,ytest)))\n",
    "print(\"Score(train) - {} \".format(lr.score(xtrain,ytrain)))"
   ]
  },
  {
   "cell_type": "code",
   "execution_count": null,
   "metadata": {},
   "outputs": [],
   "source": [
    "# this is a simple graph that will help you viusalise that correct data are represented by 0's and incorrect data\n",
    "# by any other no \n",
    "sns.distplot(ytest-ypred)"
   ]
  },
  {
   "cell_type": "markdown",
   "metadata": {},
   "source": [
    "# Now applying different threshold values\n"
   ]
  },
  {
   "cell_type": "code",
   "execution_count": null,
   "metadata": {},
   "outputs": [],
   "source": [
    "tt = lr.predict_proba(xtest)\n",
    "# tt contains a list that looks like this [probability of 0,probability of 1](for binary classisication"
   ]
  },
  {
   "cell_type": "code",
   "execution_count": null,
   "metadata": {},
   "outputs": [],
   "source": [
    "#dekh sharma itna bakwas na hai tu \n",
    "# in heart attac we need that we dont let nay person that have chances of heart attack slip by so set the\n",
    "# threshold value as 0.8 (probability of no heart attack (ie 0) > 0.8 or 0.9 ) else we mark it as can have a heart attack (1)\\\n",
    "# so thik according to situations not with code"
   ]
  },
  {
   "cell_type": "code",
   "execution_count": null,
   "metadata": {},
   "outputs": [],
   "source": [
    "#this is genralised way\n",
    "ypred = []\n",
    "thresh = 0.1\n",
    "for thresh in range(0.1,1,0.1)\n",
    "    for i in range(len(ytest)):\n",
    "        if tt[0] > thresh:   #(if probability of 0 is greater then threshold value)\n",
    "            ypredappend(0)\n",
    "        else:\n",
    "            ypred.append(1)\n",
    "    threshold_list.append(thresh,accuracy_score(ytest,ypred)) \n",
    "    "
   ]
  },
  {
   "cell_type": "code",
   "execution_count": null,
   "metadata": {},
   "outputs": [],
   "source": [
    "# plotting a confusion heatmap \n",
    "cm = confusion_matrix(ytest, lr.predict(xtest))\n",
    "\n",
    "fig, ax = plt.subplots(figsize=(8, 8))\n",
    "ax.imshow(cm)\n",
    "ax.grid(False)\n",
    "ax.xaxis.set(ticks=(0, 1), ticklabels=('Predicted 0s', 'Predicted 1s'))\n",
    "ax.yaxis.set(ticks=(0, 1), ticklabels=('Actual 0s', 'Actual 1s'))\n",
    "ax.set_ylim(1.5, -0.5)\n",
    "for i in range(2):\n",
    "    for j in range(2):\n",
    "        ax.text(j, i, cm[i, j], ha='center', va='center', color='red')\n",
    "plt.show()"
   ]
  },
  {
   "cell_type": "markdown",
   "metadata": {},
   "source": [
    "# cross val score"
   ]
  },
  {
   "cell_type": "code",
   "execution_count": null,
   "metadata": {},
   "outputs": [],
   "source": [
    "model = LogisticRegression()\n",
    "kfold_validation=KFold(10)\n",
    "results=cross_val_score(model,x,y,cv=kfold_validation)\n",
    "print(results)\n",
    "print(np.mean(results))"
   ]
  },
  {
   "cell_type": "markdown",
   "metadata": {},
   "source": [
    "# Saving the logistic model and the scaling model"
   ]
  },
  {
   "cell_type": "code",
   "execution_count": null,
   "metadata": {},
   "outputs": [],
   "source": [
    "pkl.dump(lr,open(\"pred_model\",'wb'))\n",
    "pkl.dump(sc,open(\"Data_transforming_model\",'wb'))"
   ]
  }
 ],
 "metadata": {
  "kernelspec": {
   "display_name": "Python 3",
   "language": "python",
   "name": "python3"
  },
  "language_info": {
   "codemirror_mode": {
    "name": "ipython",
    "version": 3
   },
   "file_extension": ".py",
   "mimetype": "text/x-python",
   "name": "python",
   "nbconvert_exporter": "python",
   "pygments_lexer": "ipython3",
   "version": "3.8.8"
  }
 },
 "nbformat": 4,
 "nbformat_minor": 4
}
